{
 "cells": [
  {
   "cell_type": "markdown",
   "metadata": {},
   "source": [
    "Handin Exercise 6\n",
    "Create a module containing a class with the following methods:\n",
    "\n",
    "1.init(self, url_list)\n",
    "2.download(url,filename) raises NotFoundException when url returns 404\n",
    "3.multi_download() uses threads to download multiple urls as text and stores filenames as a property\n",
    "4.iter() returns an iterator\n",
    "5.next() returns the next filename (and stops when there are no more)\n",
    "6.urllist_generator() returns a generator to loop through the urls\n",
    "7.avg_vowels(text) - a rough estimate on readability returns average number of vowels in the words of the text\n",
    "8.hardest_read() returns the filename of the text with the highest vowel score (use all the cpu cores on the computer for this work.\n",
    "\n",
    "Ex 2\n",
    "Create a notebook and import your module from above\n",
    "\n",
    "1.Find 10 books on https://www.gutenberg.org/browse/scores/top and download them using an object of the class you just created before\n",
    "2.Test the different methods of your class\n",
    "3.Make a bar plot with a sorted list of books on x-axis and avg vowels on y-axis\n"
   ]
  },
  {
   "cell_type": "code",
   "execution_count": 45,
   "metadata": {},
   "outputs": [],
   "source": [
    "import matplotlib.pyplot as plt\n",
    "from TextManager import TextManager\n",
    "\n",
    "books = {\n",
    "        \"https://www.gutenberg.org/files/16/16-0.txt\":\"Peter Pan.txt\",\n",
    "        \"https://www.gutenberg.org/files/64317/64317-0.txt\":\"The Great Gatsby.txt\",\n",
    "        \"https://www.gutenberg.org/files/521/521-0.txt\":\"Robinson Crusoe\",\n",
    "        \"https://www.gutenberg.org/files/6130/6130-0.txt\":\"The Illiad\",\n",
    "        \"https://www.gutenberg.org/files/219/219-0.txt\":\"Heart of Darkness.txt\",\n",
    "        \"https://www.gutenberg.org/files/98/98-0.txt\":\"A Tale of Two Cities.txt\",\n",
    "        \"https://www.gutenberg.org/files/2701/2701-0.txt\":\"Moby Dick.txt\",\n",
    "        \"https://www.gutenberg.org/cache/epub/19942/pg19942.txt\":\"Candide.txt\",\n",
    "        \"http://www.gutenberg.org/cache/epub/5200/pg5200.txt\":\"Metamorphosis.txt\",\n",
    "        \"http://www.gutenberg.org/cache/epub/1497/pg1497.txt\":\"The Republic.txt\"\n",
    "    }\n",
    "\n",
    "# Tests the download and the multi_download (multi calls the download funtion)\n",
    "manager = TextManager(books)\n",
    "manager.multi_download()"
   ]
  },
  {
   "cell_type": "code",
   "execution_count": 46,
   "metadata": {},
   "outputs": [
    {
     "name": "stdout",
     "output_type": "stream",
     "text": [
      "https://www.gutenberg.org/files/16/16-0.txt\n",
      "https://www.gutenberg.org/files/64317/64317-0.txt\n",
      "https://www.gutenberg.org/files/521/521-0.txt\n",
      "https://www.gutenberg.org/files/6130/6130-0.txt\n",
      "https://www.gutenberg.org/files/219/219-0.txt\n",
      "https://www.gutenberg.org/files/98/98-0.txt\n",
      "https://www.gutenberg.org/files/2701/2701-0.txt\n",
      "https://www.gutenberg.org/cache/epub/19942/pg19942.txt\n",
      "http://www.gutenberg.org/cache/epub/5200/pg5200.txt\n",
      "http://www.gutenberg.org/cache/epub/1497/pg1497.txt\n"
     ]
    }
   ],
   "source": [
    "for b in manager.iter():\n",
    "    print(b)"
   ]
  },
  {
   "cell_type": "code",
   "execution_count": 47,
   "metadata": {},
   "outputs": [
    {
     "name": "stdout",
     "output_type": "stream",
     "text": [
      "https://www.gutenberg.org/files/16/16-0.txt\n",
      "https://www.gutenberg.org/files/64317/64317-0.txt\n",
      "https://www.gutenberg.org/files/521/521-0.txt\n",
      "https://www.gutenberg.org/files/6130/6130-0.txt\n",
      "https://www.gutenberg.org/files/219/219-0.txt\n",
      "https://www.gutenberg.org/files/98/98-0.txt\n",
      "https://www.gutenberg.org/files/2701/2701-0.txt\n",
      "https://www.gutenberg.org/cache/epub/19942/pg19942.txt\n",
      "http://www.gutenberg.org/cache/epub/5200/pg5200.txt\n",
      "http://www.gutenberg.org/cache/epub/1497/pg1497.txt\n"
     ]
    }
   ],
   "source": [
    "url_gen = manager.url_list_generator()\n",
    "\n",
    "for url in url_gen:\n",
    "    print(url)"
   ]
  },
  {
   "cell_type": "code",
   "execution_count": 48,
   "metadata": {},
   "outputs": [
    {
     "data": {
      "text/plain": [
       "([0, 1, 2, 3, 4, 5, 6, 7, 8, 9], <a list of 10 Text major ticklabel objects>)"
      ]
     },
     "execution_count": 48,
     "metadata": {},
     "output_type": "execute_result"
    },
    {
     "data": {
      "image/png": "[encoded data removed]",
      "text/plain": [
       "<Figure size 432x288 with 1 Axes>"
      ]
     },
     "metadata": {
      "needs_background": "light"
     },
     "output_type": "display_data"
    }
   ],
   "source": [
    "book_dict = dict()\n",
    "url_gen = manager.url_list_generator()\n",
    "for url in url_gen:\n",
    "    filename = manager.url_list[url]\n",
    "    book_dict[filename] = manager.avg_vowels(manager.url_list[url])\n",
    "\n",
    "plt.bar(book_dict.keys(), book_dict.values())\n",
    "plt.xticks(rotation=40, fontsize = 6)"
   ]
  },
  {
   "cell_type": "code",
   "execution_count": 49,
   "metadata": {},
   "outputs": [
    {
     "name": "stdout",
     "output_type": "stream",
     "text": [
      "Moby Dick.txt\n"
     ]
    }
   ],
   "source": [
    "print(manager.hardest_read())"
   ]
  },
  {
   "cell_type": "code",
   "execution_count": null,
   "metadata": {},
   "outputs": [],
   "source": []
  }
 ],
 "metadata": {
  "kernelspec": {
   "display_name": "Python 3",
   "language": "python",
   "name": "python3"
  },
  "language_info": {
   "codemirror_mode": {
    "name": "ipython",
    "version": 3
   },
   "file_extension": ".py",
   "mimetype": "text/x-python",
   "name": "python",
   "nbconvert_exporter": "python",
   "pygments_lexer": "ipython3",
   "version": "3.7.6"
  }
 },
 "nbformat": 4,
 "nbformat_minor": 4
}
