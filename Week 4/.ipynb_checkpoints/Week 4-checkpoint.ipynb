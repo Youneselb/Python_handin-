{
 "cells": [
  {
   "cell_type": "markdown",
   "metadata": {},
   "source": [
    "# Week 4 Exercise with Numpy\n",
    "#Use only numpy (not pandas) in these exercises"
   ]
  },
  {
   "cell_type": "code",
   "execution_count": 1,
   "metadata": {},
   "outputs": [],
   "source": [
    "#Exercise 1\n",
    "#1. Open the file './befkbhalderstatkode.csv'\n",
    "#2. Turn the csv file into a numpy ndarray with np.genfromtxt(filename, delimiter=',', dtype=np.uint, skip_header=1)"
   ]
  },
  {
   "cell_type": "code",
   "execution_count": 5,
   "metadata": {},
   "outputs": [
    {
     "name": "stdout",
     "output_type": "stream",
     "text": [
      "[[2015    1    0 5100  614]\n",
      " [2015    1    0 5104    2]\n",
      " [2015    1    0 5106    1]\n",
      " [2015    1    0 5110    1]\n",
      " [2015    1    0 5120    4]]\n"
     ]
    }
   ],
   "source": [
    "import numpy as np\n",
    "\n",
    "data = np.genfromtxt('befkbhalderstatkode.csv', delimiter=',', dtype=np.uint, skip_header=1)\n",
    "print(data[:5,:])"
   ]
  },
  {
   "cell_type": "markdown",
   "metadata": {},
   "source": [
    "# Using this data:\n",
    "#neighb = {1: 'Indre By', 2: 'Østerbro', 3: 'Nørrebro', 4: 'Vesterbro/Kgs. Enghave', \n",
    "       5: 'Valby', 6: 'Vanløse', 7: 'Brønshøj-Husum', 8: 'Bispebjerg', 9: 'Amager Øst', \n",
    "       10: 'Amager Vest', 99: 'Udenfor'}\n",
    "#Find out how many people lived in each of the 11 areas in 2015"
   ]
  },
  {
   "cell_type": "code",
   "execution_count": 7,
   "metadata": {},
   "outputs": [
    {
     "name": "stdout",
     "output_type": "stream",
     "text": [
      "[51937 75113 78802 61623 51727 39537 43908 53604 55205 64967  3872]\n"
     ]
    }
   ],
   "source": [
    "neighb = {1: 'Indre By', 2: 'Østerbro', 3: 'Nørrebro', 4: 'Vesterbro/Kgs. Enghave', \n",
    "       5: 'Valby', 6: 'Vanløse', 7: 'Brønshøj-Husum', 8: 'Bispebjerg', 9: 'Amager Øst', \n",
    "       10: 'Amager Vest', 99: 'Udenfor'}\n",
    "\n",
    "mask = (data[:,0] == 2015)\n",
    "\n",
    "def livingInArea(n,mask):\n",
    "    all_people_in_given_n = data[mask & (data[:,1] == n)]\n",
    "    sum_of_people = all_people_in_given_n[:, 4].sum()\n",
    "    \n",
    "    return sum_of_people\n",
    "\n",
    "\n",
    "neighbourhood2015 = np.array([livingInArea(n, mask) for n in neighb.keys()])\n",
    "\n",
    "print(neighbourhood2015)\n"
   ]
  },
  {
   "cell_type": "code",
   "execution_count": 8,
   "metadata": {},
   "outputs": [],
   "source": [
    "# Make a bar plot to show the size of each city area from the smallest to the largest"
   ]
  },
  {
   "cell_type": "code",
   "execution_count": 18,
   "metadata": {},
   "outputs": [
    {
     "data": {
      "image/png": "[encoded data removed]",
      "text/plain": [
       "<Figure size 432x288 with 1 Axes>"
      ]
     },
     "metadata": {
      "needs_background": "light"
     },
     "output_type": "display_data"
    }
   ],
   "source": [
    "import matplotlib.pyplot as plt\n",
    "\n",
    "#finding unique neighbour values\n",
    "unique_neighbour_area = list(set(data[:,1]))\n",
    "\n",
    "mydict = {}\n",
    "x = 0\n",
    "while x < len(unique_neighbour_area):\n",
    "    mydict.update({unique_neighbour_area[x]:neighbourhood2015[x]})\n",
    "    x += 1\n",
    "    \n",
    "mydict_sorted = sorted(mydict.items(), key = lambda x: x[1])\n",
    "\n",
    "list_bar_x = []\n",
    "list_bar_y = []\n",
    "for a in mydict_sorted:\n",
    "   list_bar_x.append(str(a[0]))\n",
    "   list_bar_y.append(a[1])\n",
    "\n",
    "plt.figure()\n",
    "plt.bar(list_bar_x, list_bar_y, linewidth=5)\n",
    "\n",
    "# Set chart title and label axes. \n",
    "plt.title(\"Population 2015\", fontsize=20)\n",
    "plt.xlabel(\"Area/Code\", fontsize=14)\n",
    "plt.ylabel(\"Population\", fontsize=14)\n",
    " # Set size of tick labels.\n",
    "plt.tick_params(axis='both', labelsize=14)\n",
    "#plt.show()"
   ]
  },
  {
   "cell_type": "code",
   "execution_count": 11,
   "metadata": {},
   "outputs": [],
   "source": [
    "# Create a boolean mask to find out how many people above 65 years lived in Copenhagen in 2015"
   ]
  },
  {
   "cell_type": "code",
   "execution_count": 22,
   "metadata": {},
   "outputs": [
    {
     "name": "stdout",
     "output_type": "stream",
     "text": [
      "55750\n"
     ]
    }
   ],
   "source": [
    "maskOver65 = (data[:,0] == 2015) & (data[:,2] > 65)\n",
    "\n",
    "copenhagen65 =  np.sum(data[(maskOver65)][:,4])\n",
    "print(copenhagen65)"
   ]
  },
  {
   "cell_type": "code",
   "execution_count": 13,
   "metadata": {},
   "outputs": [],
   "source": [
    "# How many of those were from the other nordic countries (not dk)"
   ]
  },
  {
   "cell_type": "code",
   "execution_count": 25,
   "metadata": {},
   "outputs": [
    {
     "name": "stdout",
     "output_type": "stream",
     "text": [
      "236\n",
      "267\n",
      "72\n",
      "2\n",
      "33\n",
      "0\n",
      "0\n",
      "0\n"
     ]
    },
    {
     "ename": "NameError",
     "evalue": "name 'nordicPopulation' is not defined",
     "output_type": "error",
     "traceback": [
      "\u001b[0;31m---------------------------------------------------------------------------\u001b[0m",
      "\u001b[0;31mNameError\u001b[0m                                 Traceback (most recent call last)",
      "\u001b[0;32m<ipython-input-25-8c7a72bde4e6>\u001b[0m in \u001b[0;36m<module>\u001b[0;34m\u001b[0m\n\u001b[1;32m     10\u001b[0m \u001b[0;34m\u001b[0m\u001b[0m\n\u001b[1;32m     11\u001b[0m \u001b[0mcount_popu\u001b[0m \u001b[0;34m=\u001b[0m \u001b[0;36m0\u001b[0m\u001b[0;34m\u001b[0m\u001b[0;34m\u001b[0m\u001b[0m\n\u001b[0;32m---> 12\u001b[0;31m \u001b[0;32mfor\u001b[0m \u001b[0mp\u001b[0m \u001b[0;32min\u001b[0m \u001b[0mnordicPopulation\u001b[0m\u001b[0;34m:\u001b[0m\u001b[0;34m\u001b[0m\u001b[0;34m\u001b[0m\u001b[0m\n\u001b[0m\u001b[1;32m     13\u001b[0m     \u001b[0mcount_popu\u001b[0m \u001b[0;34m+=\u001b[0m \u001b[0mp\u001b[0m\u001b[0;34m\u001b[0m\u001b[0;34m\u001b[0m\u001b[0m\n\u001b[1;32m     14\u001b[0m \u001b[0mprint\u001b[0m\u001b[0;34m(\u001b[0m\u001b[0mint\u001b[0m\u001b[0;34m(\u001b[0m\u001b[0mcount_popu\u001b[0m\u001b[0;34m)\u001b[0m\u001b[0;34m)\u001b[0m\u001b[0;34m\u001b[0m\u001b[0;34m\u001b[0m\u001b[0m\n",
      "\u001b[0;31mNameError\u001b[0m: name 'nordicPopulation' is not defined"
     ]
    }
   ],
   "source": [
    "statecodes = [5110, 5120, 5104, 5105, 5106, 5101, 5901, 5902]\n",
    "\n",
    "def peopleOver65(s,mask):\n",
    "    all_people_in_given_s = data[mask & (data[:,3] == s)]\n",
    "    sum_of_people = all_people_in_given_s[:, 4].sum()\n",
    "    print(sum_of_people)\n",
    "    return sum_of_people\n",
    "\n",
    "nordic_popu = np.array([peopleOver65(s,maskOver65) for s in statecodes_nordic])\n",
    "\n",
    "count_popu = 0\n",
    "for p in nordic_popu:\n",
    "    count_popu += p\n",
    "print(int(count_popu))"
   ]
  },
  {
   "cell_type": "code",
   "execution_count": 15,
   "metadata": {},
   "outputs": [],
   "source": [
    "# Make a line plot showing the changes of number of people in vesterbro and østerbro from 1992 to 2015"
   ]
  },
  {
   "cell_type": "code",
   "execution_count": 19,
   "metadata": {},
   "outputs": [
    {
     "data": {
      "image/png": "[encoded data removed]",
      "text/plain": [
       "<Figure size 432x288 with 1 Axes>"
      ]
     },
     "metadata": {
      "needs_background": "light"
     },
     "output_type": "display_data"
    }
   ],
   "source": [
    "year = []\n",
    "x = 1992\n",
    "while x < 2016:\n",
    "    year.append(x)\n",
    "    x +=1\n",
    "\n",
    "mask_vest = (data[:,1] == 4)\n",
    "mask_oest = (data[:,1] == 2)\n",
    "\n",
    "def vest_and_oest(y,mask):\n",
    "    all_people_in_given_n = data[mask & (data[:,0] == y)]\n",
    "    sum_of_people = all_people_in_given_n[:, 4].sum()\n",
    "    return sum_of_people\n",
    "    \n",
    "popu_vest = np.array([vest_and_oest(y, mask_vest) for y in year])\n",
    "\n",
    "popu_oest = np.array([vest_and_oest(y, mask_oest) for y in year])\n",
    "\n",
    "plt.figure()\n",
    "plt.plot(year,popu_vest,linewidth=3,color='red',label='V-bro')\n",
    "plt.plot(year,popu_oest,linewidth=3,color='blue',label='Ø-bro')\n",
    "plt.title(\"Vesterbro/Østerbro 1992-2015\", fontsize=20)\n",
    "plt.xlabel(\"Year\", fontsize=14)\n",
    "plt.ylabel(\"Population\", fontsize=14)\n",
    " # Set size of tick labels.\n",
    "plt.tick_params(axis='both', labelsize=14)\n",
    "plt.legend()\n",
    "plt.show()"
   ]
  },
  {
   "cell_type": "code",
   "execution_count": null,
   "metadata": {},
   "outputs": [],
   "source": []
  }
 ],
 "metadata": {
  "kernelspec": {
   "display_name": "Python 3",
   "language": "python",
   "name": "python3"
  },
  "language_info": {
   "codemirror_mode": {
    "name": "ipython",
    "version": 3
   },
   "file_extension": ".py",
   "mimetype": "text/x-python",
   "name": "python",
   "nbconvert_exporter": "python",
   "pygments_lexer": "ipython3",
   "version": "3.7.6"
  }
 },
 "nbformat": 4,
 "nbformat_minor": 4
}
