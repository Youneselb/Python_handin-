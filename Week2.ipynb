Exercise 1
Create a program that can take an input and an output file and write the content of the input file into a list, the console or to the output file.
Write a python file with 3 functions:
def print_file_content(file) that can print content of a text file to the console
def write_list_to_file(output_file, lst) that can take a list or tuple and write each element to a new line in file
create a helper function that gets an arbitrary number of strings instead of a list
def read_file(input_file) that take a csv file and read each row into a list
Add a functionality so that the program can be called from cli with 2 arguments
path to input file
an argument --file file_name to be used as the output file to write to.
if only the input file is given write output to console
if the input file is given with a list of extra words add those words to the output (whether to file or console)
Add 'help' attributes to each cli argument to describe how the module is used
In [ ]:
#def print_file_content(file) that can print content of a text file to the console

def print_file_content(file):
    with open(file,'r') as file_object:
        lines = file_object.readlines()
        print(lines)


print_file_content('file_to_read.txt')
In [ ]:
#def write_list_to_file(output_file, lst) that can take a list or tuple and write each element to a new line in file

temp_list = ['This','is','a','short','list','version','2.0']

def write_list_to_file(output_file, lst):
    with open(output_file,'w') as file_object:
        for element in lst:
            file_object.write(element +'\n')

write_list_to_file('output_file.txt',temp_list)
In [ ]:
# A) create a helper function that gets an arbitrary number of strings instead of a list

def helper_function(*strings):
    a_list = []
    for str_ in strings:
        a_list.append(str_)
    return a_list


def write_list_to_file(output_file, helper_function):
    with open(output_file,'w') as file_object:
        for element in helper_function:
            file_object.write(element +'\n')

write_list_to_file('output_file.txt',helper_function('helper_function*','has','been','used'))
In [ ]:
import argparse
import sys
#def read_file(input_file) that take a csv file and read each row into a list


def read_file():

    if __name__=="__main__":
        
        parser = argparse.ArgumentParser()
        parser.add_argument("read_from", help="file_path to be read from")
        parser.add_argument("--write_to", help="file_path to write to")
        parser.add_argument("--additional_text", help="not part of the file_paths")
        args = parser.parse_args()
        
        arg_list = sys.argv

        if len(arg_list) == 2:
            a_list = []
            with open(args.read_from) as f:
                content = f.readlines()
            for line in content:
                a_list.append(line)
            print(a_list)
            print(len(sys.argv))
        
        if len(arg_list) == 4:
            a_list = []
            with open(args.read_from) as f:
                content = f.readlines()
            for line in content:
                a_list.append(line)
            with open(args.write_to,'w') as v:
                for line in content:
                    v.write(line)
                    
        if len(arg_list) > 4:
            a_list = []
            with open(args.read_from) as f:
                content = f.readlines()
            for line in content:
                a_list.append(line)
            with open(args.write_to,'w') as v:
                for line in content:
                    v.write(line)
            new_list = arg_list[4:]
            x = 1
            while x < len(new_list):
                print(new_list[x])
                x+=2
              
read_file()

# jeg kunne desværre ikke finde ud af at få Jupyter_notebook til at køre programmet uden CMD adgang.
# programmet kører fint på mit "lokale" miljø..
Exercise 2
Create a module called utils.py and put the following functions inside:
first function takes a path to a folder and writes all filenames in the folder to a specified output file
second takes a path to a folder and write all filenames recursively (files of all sub folders to)
third takes a list of filenames and print the first line of each
fourth takes a list of filenames and print each line that contains an email (just look for @)
fifth takes a list of md files and writes all headlines (lines starting with #) to a file
Make sure your module can be called both from cli and imported to another module
Create a new module that imports utils.py and test each function.
Testing the utils-module
In [14]:
import utils as util

#Testing the first function... output is handed over to exercise2.txt

util.first_function('./')
In [15]:
#Testing the second function.. 
# it works perfectly when running on VS.. but not in Notebook!!

util.second_function('./')
---------------------------------------------------------------------------
AttributeError                            Traceback (most recent call last)
<ipython-input-15-7e8598e954d0> in <module>
      2 # it works perfectly when running on VS.. but not in Notebook!!
      3 
----> 4 util.second_function('./')

~/my_notebooks/week_2/utils.py in second_function(path_to_folder)
     26             for subfile in sub_files:
     27                 listen.append(subfile)
---> 28         else:
     29             listen.append(file)
     30 

AttributeError: 'str' object has no attribute 'isdir'
In [16]:
#Testing the third function... 

util.third_function(util.file_system)
Car,Model,Volume,Weight,CO2


cars.csv


Hello .. this is the content of a file...!

helper_function*


In [11]:
#Testing the fourth function

#util.fourth_function(util.mail_system)
this line does contain @sfhkaj


this line does contain @.sjdfhk


this line does contain @.sjdfhk


In [17]:
#Testing the fifth function.. writing to: md_output_file.txt

util.fifth_function(util.md_files,'md_output_file.txt')
