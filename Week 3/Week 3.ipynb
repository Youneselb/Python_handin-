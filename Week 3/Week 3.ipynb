{
 "cells": [
  {
   "cell_type": "markdown",
   "metadata": {},
   "source": [
    "#WEEK 3\n",
    "#Ex 1 Classes¶\n",
    "#1. Create 3 classes: Student, DataSheet and Course\n",
    "#2.A student has a data_sheet and a data_sheet has multiple courses in particular order\n",
    "#3.Each course has name, classroom, teacher, ETCS and optional grade if course is taken.\n",
    "#4.In Student create init() so that a Student can be initiated with name, gender, data_sheet and image_url\n",
    "#5.In DataSheet create a method to get_grades_as_list()\n",
    "#6.In student create a method: get_avg_grade()"
   ]
  },
  {
   "cell_type": "code",
   "execution_count": 67,
   "metadata": {},
   "outputs": [],
   "source": [
    "class Course:\n",
    "    def __init__(self, name, classroom, teacher, ETCS, grade = None): \n",
    "        \n",
    "        self.name = name\n",
    "        self.classroom = classroom\n",
    "        self.teacher = teacher\n",
    "        self.ETCS = ETCS\n",
    "        self.grade = grade\n",
    "        \n",
    "    def __str__(self):\n",
    "        output = f'Name: {self.name}, Classroom: {self.classroom}, Teacher: {self.teacher}, ETCS: {self.ETCS}'\n",
    "        if self.grade != None:\n",
    "            output += f', Grade: {self.grade}'\n",
    "        return output\n",
    "\n",
    "    \n",
    "class DataSheet():\n",
    "    def __init__(self, courses=[]):\n",
    "        self.courses = courses \n",
    "        \n",
    "    def __str__(self):\n",
    "        return '{courses}'.format(\n",
    "            courses = self.courses\n",
    "        )    \n",
    "        \n",
    "    def get_grades_as_list(self):\n",
    "        grades = [course.grade for course in self.courses if course.grade != None]\n",
    "        return grades\n",
    "        \n",
    "        \n",
    "class Student():\n",
    "    def __init__(self, name, gender, image_url, dataSheet):\n",
    "        self.name = name\n",
    "        self.gender = gender\n",
    "        self.image_url = image_url\n",
    "        self.dataSheet = dataSheet\n",
    "\n",
    "    def __str__(self):\n",
    "        return f'Name: {self.name}, gender: {self.gender}, image_url: {self.image_url}.\\nDataSheet:\\n{self.dataSheet}'\n",
    "    \n",
    "    def __repr__(self):\n",
    "        return \"Student(%r,%r,%r,%r)\" % (\n",
    "            self.name,\n",
    "            self.gender,\n",
    "            self.dataSheet,\n",
    "            self.image_url,\n",
    "        )\n",
    "\n",
    "    def get_avg_grade(self):\n",
    "        avg = 0\n",
    "        grades = self.dataSheet.get_grades_as_list()\n",
    "        for grade in grades:\n",
    "            if(grade != \"\"):\n",
    "                avg += (grade / len(grades))\n",
    "        return avg\n",
    "\n",
    "    def get_etcs_progression(self):\n",
    "        prog = 0\n",
    "        for course in self.dataSheet.courses:\n",
    "            prog += course.ETCS\n",
    "        return ((prog/150)*100)\n",
    "\n",
    "    def get_courses_taken(self):\n",
    "        return self.dataSheet.courses\n"
   ]
  },
  {
   "cell_type": "markdown",
   "metadata": {},
   "source": [
    "#1. Create a function that can generate n number of students with random: name, gender, courses (from a fixed list of course names), grades, img_url\n",
    "#a. Let the function write the result to a csv file with format stud_name, course_name, teacher, ects, classroom, grade, img_url"
   ]
  },
  {
   "cell_type": "code",
   "execution_count": 83,
   "metadata": {},
   "outputs": [
    {
     "data": {
      "text/plain": [
       "[Student('Hanne','Male','https://student.dk/',<__main__.DataSheet object at 0x7f7c101fc690>),\n",
       " Student('Hanne','Male','https://student.dk/',<__main__.DataSheet object at 0x7f7c101fc750>),\n",
       " Student('Hanne','Male','https://student.dk/',<__main__.DataSheet object at 0x7f7c101fc810>),\n",
       " Student('Hanne','Male','https://student.dk/',<__main__.DataSheet object at 0x7f7c101fc8d0>),\n",
       " Student('Hanne','Female','https://student.dk/',<__main__.DataSheet object at 0x7f7c101fc990>),\n",
       " Student('Jørgen','Female','https://student.dk/',<__main__.DataSheet object at 0x7f7c101fca90>),\n",
       " Student('Jørgen','Female','https://student.dk/',<__main__.DataSheet object at 0x7f7c101fcb50>),\n",
       " Student('Hanne','Male','https://student.dk/',<__main__.DataSheet object at 0x7f7c101fcc10>),\n",
       " Student('Hanne','Male','https://student.dk/',<__main__.DataSheet object at 0x7f7c101fccd0>),\n",
       " Student('Hanne','Male','https://student.dk/',<__main__.DataSheet object at 0x7f7c101fcd50>)]"
      ]
     },
     "execution_count": 83,
     "metadata": {},
     "output_type": "execute_result"
    }
   ],
   "source": [
    "def generate_random_students():\n",
    "    rand_students = [\"Hanne\",\"Peter\",\"Jørgen\"]\n",
    "    rand_genderList = [\"Male\",\"Female\"]\n",
    "    \n",
    "    \n",
    "    rand_courseNameList = [\"Python\",\"Java\",\"React\"]\n",
    "    rand_classroomList = [1,2,3]\n",
    "    rand_teacherList = ['Thomas','Lars','Daniel']\n",
    "    rand_ECTS_List = [5,10,15]\n",
    "    rand_gradeList = [-2,int(),2,4,7,10,12]\n",
    "    \n",
    "    rand_UrlList = [\"https://student.dk/\"]    \n",
    "   \n",
    "    \n",
    "    stud_calc = 0\n",
    "    studentList = []\n",
    "    #studentList = {}\n",
    "    while stud_calc < 10:\n",
    "        r_name = random.choice(rand_students)\n",
    "        r_gender = random.choice(rand_genderList)\n",
    "        r_Url = random.choice(rand_UrlList)\n",
    "            \n",
    "        #course/datasheet-info\n",
    "        r_courseName = random.choice(rand_courseNameList)\n",
    "        r_class = random.choice(rand_classroomList)\n",
    "        r_teacher = random.choice(rand_teacherList)\n",
    "        r_ECTS = random.choice(rand_ECTS_List)\n",
    "        r_grade = random.choice(rand_gradeList)\n",
    "\n",
    "        cours = Course(r_courseName,r_class,r_teacher,r_ECTS,r_grade)\n",
    "        dat_sheet = DataSheet(cours)\n",
    "        stud = Student(r_name,r_gender,dat_sheet,r_Url)\n",
    "        studentList.append((stud))\n",
    "       \n",
    "        stud_calc +=1\n",
    "    \n",
    "    \n",
    "    \n",
    "    return studentList\n",
    "    generate_random_students()"
   ]
  },
  {
   "cell_type": "code",
   "execution_count": 107,
   "metadata": {},
   "outputs": [],
   "source": [
    "import csv  \n",
    "\n",
    "def read_students_to_CSV():\n",
    "    \n",
    "    students = generate_random_students()\n",
    "    \n",
    "    with open(\"student_info.csv\", \"w\") as csv_file:\n",
    "        csv_file.write(\n",
    "            \"stud_name,gender,course_name,teacher,ects,classroom,grade,img_url\\n\"\n",
    "        )\n",
    "        for s in students:\n",
    "            #for c in s.data_sheet:\n",
    "                csv_file.write(\n",
    "                \"{name},{gender},{course_name},{teacher},{ECTS},{classroom},{grade},{img_url}\\n\".format(\n",
    "                    name=s.name,\n",
    "                    gender= s.gender,               \n",
    "                    course_name= s.data_sheet.courses.name,\n",
    "                    teacher= s.data_sheet.courses.teacher,\n",
    "                    ECTS = s.data_sheet.courses.ECTS,\n",
    "                    classroom = s.data_sheet.courses.classroom,\n",
    "                    grade = s.data_sheet.courses.grade,\n",
    "                    img_url = s.image_url,\n",
    "                    )\n",
    "                ) \n",
    "   \n",
    "    read_students_to_CSV()"
   ]
  },
  {
   "cell_type": "code",
   "execution_count": 108,
   "metadata": {},
   "outputs": [],
   "source": [
    "def convert_CSV_to_list():\n",
    "\n",
    "    stud_list = []\n",
    "    with open('student_info.csv', 'r') as f:\n",
    "        reader = csv.reader(f)\n",
    "        reader.__next__()\n",
    "        for row in reader:\n",
    "            tmp_list = list(row)\n",
    "            stud_name = tmp_list[0]\n",
    "            stud_gender = tmp_list[1]\n",
    "            cours_name = tmp_list[2]\n",
    "            cours_class = tmp_list[5]\n",
    "            cours_teacher = tmp_list[3]\n",
    "            cours_ECTS = tmp_list[4]\n",
    "            cours_grade = tmp_list[6]\n",
    "            stud_imgURL = tmp_list[7]\n",
    "\n",
    "            cours_Obj = Course(cours_name,cours_class,cours_teacher,cours_ECTS,cours_grade)\n",
    "            dat_sheet = DataSheet(cours_Obj)\n",
    "            stud_Obj  = Student(stud_name,stud_gender,dat_sheet,stud_imgURL)\n",
    "\n",
    "            stud_list.append(stud_Obj)\n",
    "      \n",
    "    return stud_list"
   ]
  },
  {
   "cell_type": "code",
   "execution_count": 101,
   "metadata": {},
   "outputs": [
    {
     "data": {
      "text/plain": [
       "[]"
      ]
     },
     "execution_count": 101,
     "metadata": {},
     "output_type": "execute_result"
    }
   ],
   "source": []
  },
  {
   "cell_type": "code",
   "execution_count": null,
   "metadata": {},
   "outputs": [],
   "source": []
  }
 ],
 "metadata": {
  "kernelspec": {
   "display_name": "Python 3",
   "language": "python",
   "name": "python3"
  },
  "language_info": {
   "codemirror_mode": {
    "name": "ipython",
    "version": 3
   },
   "file_extension": ".py",
   "mimetype": "text/x-python",
   "name": "python",
   "nbconvert_exporter": "python",
   "pygments_lexer": "ipython3",
   "version": "3.7.6"
  }
 },
 "nbformat": 4,
 "nbformat_minor": 4
}
