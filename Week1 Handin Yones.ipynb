{
 "cells": [
  {
   "cell_type": "markdown",
   "metadata": {},
   "source": [
    "# EXCERCISES\n",
    "# 1. Create 5 list comprehensions to solve the following 5 problems:\n"
   ]
  },
  {
   "cell_type": "code",
   "execution_count": 1,
   "metadata": {},
   "outputs": [
    {
     "name": "stdout",
     "output_type": "stream",
     "text": [
      "['Henrik', 'Hans', 'Bo', 'Mads', 'Henriette']\n",
      "['Henrik', 'Hans', 'Henriette']\n"
     ]
    }
   ],
   "source": [
    "#A. Iterate a list of names to return a list of the names starting with H\n",
    "\n",
    "nameList = [\"Henrik\", \"Hans\", \"Bo\", \"Mads\", \"Henriette\"]\n",
    "print(nameList)\n",
    "#Expression, For loop and if condition\n",
    "namesWithH = [name for name in nameList if name.startswith(\"H\")]\n",
    "print(namesWithH)"
   ]
  },
  {
   "cell_type": "code",
   "execution_count": 2,
   "metadata": {},
   "outputs": [
    {
     "name": "stdout",
     "output_type": "stream",
     "text": [
      "['Henrik', 'Hans', 'Henriette']\n"
     ]
    }
   ],
   "source": [
    "# Alternative way: if 'H' in h returns True\n",
    "\n",
    "names = [\"Henrik\", \"Hans\", \"Bo\", \"Mads\", \"Henriette\"]\n",
    "names2 = [h for h in names if \"H\" in h]\n",
    "print(names2)"
   ]
  },
  {
   "cell_type": "markdown",
   "metadata": {},
   "source": [
    "# B. In one line create a list of the numbers 1-100 to the power of 3"
   ]
  },
  {
   "cell_type": "code",
   "execution_count": 3,
   "metadata": {},
   "outputs": [
    {
     "name": "stdout",
     "output_type": "stream",
     "text": [
      "[1, 8, 27, 64, 125, 216, 343, 512, 729, 1000, 1331, 1728, 2197, 2744, 3375, 4096, 4913, 5832, 6859, 8000, 9261, 10648, 12167, 13824, 15625, 17576, 19683, 21952, 24389, 27000, 29791, 32768, 35937, 39304, 42875, 46656, 50653, 54872, 59319, 64000, 68921, 74088, 79507, 85184, 91125, 97336, 103823, 110592, 117649, 125000, 132651, 140608, 148877, 157464, 166375, 175616, 185193, 195112, 205379, 216000, 226981, 238328, 250047, 262144, 274625, 287496, 300763, 314432, 328509, 343000, 357911, 373248, 389017, 405224, 421875, 438976, 456533, 474552, 493039, 512000, 531441, 551368, 571787, 592704, 614125, 636056, 658503, 681472, 704969, 729000, 753571, 778688, 804357, 830584, 857375, 884736, 912673, 941192, 970299, 1000000]\n"
     ]
    }
   ],
   "source": [
    "my_comp = [element**3 for element in range(1,101)]\n",
    "print(my_comp)"
   ]
  },
  {
   "cell_type": "markdown",
   "metadata": {},
   "source": [
    "# C. Iterate a list of names to create a list of tuples where the tuples first value is the length of the name \n",
    "# and the second is the name"
   ]
  },
  {
   "cell_type": "code",
   "execution_count": 4,
   "metadata": {},
   "outputs": [
    {
     "name": "stdout",
     "output_type": "stream",
     "text": [
      "[(6, 'Henrik'), (4, 'Hans'), (2, 'Bo'), (4, 'Mads'), (9, 'Henriette')]\n"
     ]
    }
   ],
   "source": [
    "tuples = [(len(name), name) for name in nameList]\n",
    "print(tuples)"
   ]
  },
  {
   "cell_type": "markdown",
   "metadata": {},
   "source": [
    "# D. Iterate over each character in a string and get only those that are nummeric"
   ]
  },
  {
   "cell_type": "code",
   "execution_count": 5,
   "metadata": {},
   "outputs": [
    {
     "name": "stdout",
     "output_type": "stream",
     "text": [
      "['2', '3', '4', '5', '6']\n"
     ]
    }
   ],
   "source": [
    "stringWithDigits = \"return2all3digits4from5this6list\"\n",
    "\n",
    "digits = [numeric for numeric in stringWithDigits if numeric.isdigit()]\n",
    "print(digits)\n"
   ]
  },
  {
   "cell_type": "markdown",
   "metadata": {},
   "source": [
    "# E) Using only a list comprehension wrapped in set() get all possible combination from throwing 2 dice \n",
    "#    (hint use 2 for loops in a single list comprehension)"
   ]
  },
  {
   "cell_type": "code",
   "execution_count": 6,
   "metadata": {},
   "outputs": [
    {
     "name": "stdout",
     "output_type": "stream",
     "text": [
      "{(1, 3), (6, 6), (5, 6), (2, 1), (6, 2), (1, 6), (5, 1), (2, 5), (1, 2), (3, 3), (5, 5), (4, 4), (6, 3), (1, 5), (3, 6), (2, 2), (4, 1), (1, 1), (6, 4), (3, 2), (2, 6), (5, 4), (4, 5), (5, 2), (1, 4), (2, 3), (4, 2), (6, 5), (3, 5), (5, 3), (4, 6), (6, 1), (3, 1), (4, 3), (3, 4), (2, 4)}\n"
     ]
    }
   ],
   "source": [
    "# Sets can be used to find unique values in a sequence\n",
    "firstDice = [1,2,3,4,5,6]\n",
    "secondDice = [1,2,3,4,5,6]\n",
    "# range(1,7) can also be used instead.\n",
    "\n",
    "twoDices = set([(f,s) for f in firstDice for s in secondDice])\n",
    "\n",
    "print(twoDices)"
   ]
  },
  {
   "cell_type": "markdown",
   "metadata": {},
   "source": [
    "# 2. Create 2 dictionary comprehensions to solve the following:"
   ]
  },
  {
   "cell_type": "code",
   "execution_count": 7,
   "metadata": {},
   "outputs": [
    {
     "name": "stdout",
     "output_type": "stream",
     "text": [
      "{'Henrik': 6, 'Hans': 4, 'Bo': 2, 'Mads': 4, 'Henriette': 9}\n"
     ]
    }
   ],
   "source": [
    "#1. Iterate a list of names and create a dictionary where key is the name and value is the length of the name\n",
    "\n",
    "#using nameList from first excersice\n",
    "dictionary = {name:len(name) for name in nameList}\n",
    "print(dictionary)"
   ]
  },
  {
   "cell_type": "markdown",
   "metadata": {},
   "source": [
    "# 2. Iterate a list of numbers  and create a dictionary with {key:value} being number:squareroot_of_number\n"
   ]
  },
  {
   "cell_type": "code",
   "execution_count": 8,
   "metadata": {},
   "outputs": [
    {
     "name": "stdout",
     "output_type": "stream",
     "text": [
      "{2: 1.4142135623730951, 4: 2.0, 6: 2.449489742783178, 8: 2.8284271247461903, 10: 3.1622776601683795, 12: 3.4641016151377544, 14: 3.7416573867739413, 16: 4.0, 18: 4.242640687119285, 20: 4.47213595499958}\n"
     ]
    }
   ],
   "source": [
    "import math\n",
    "listOfNumbers = [2,4,6,8,10,12,14,16,18,20]\n",
    "\n",
    "dictionaryNumbers = {number:math.sqrt(number) for number in listOfNumbers}\n",
    "print(dictionaryNumbers)"
   ]
  },
  {
   "cell_type": "code",
   "execution_count": null,
   "metadata": {},
   "outputs": [],
   "source": []
  }
 ],
 "metadata": {
  "kernelspec": {
   "display_name": "Python 3",
   "language": "python",
   "name": "python3"
  },
  "language_info": {
   "codemirror_mode": {
    "name": "ipython",
    "version": 3
   },
   "file_extension": ".py",
   "mimetype": "text/x-python",
   "name": "python",
   "nbconvert_exporter": "python",
   "pygments_lexer": "ipython3",
   "version": "3.7.6"
  }
 },
 "nbformat": 4,
 "nbformat_minor": 4
}
