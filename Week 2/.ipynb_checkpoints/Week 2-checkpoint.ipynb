{
 "cells": [
  {
   "cell_type": "code",
   "execution_count": 4,
   "metadata": {},
   "outputs": [
    {
     "name": "stdout",
     "output_type": "stream",
     "text": [
      "['I am writing from a file!']\n"
     ]
    }
   ],
   "source": [
    "#def print_file_content(file) that can print content of a text file to the console\n",
    "\n",
    "def print_file_content(file):\n",
    "    with open(file,'r') as file_object:\n",
    "        lines = file_object.readlines()\n",
    "        print(lines)\n",
    "\n",
    "\n",
    "print_file_content('file_to_read.txt')"
   ]
  },
  {
   "cell_type": "code",
   "execution_count": 2,
   "metadata": {},
   "outputs": [],
   "source": [
    "#def write_list_to_file(output_file, lst) that can take a list or tuple and write each element to a new line in file\n",
    "\n",
    "temp_list = ['Write','this','list','to','output','file','now!']\n",
    "\n",
    "def write_list_to_file(output_file, lst):\n",
    "    with open(output_file,'w') as file_object:\n",
    "        for element in lst:\n",
    "            file_object.write(element +'\\n')\n",
    "\n",
    "write_list_to_file('output_file.txt',temp_list)"
   ]
  },
  {
   "cell_type": "code",
   "execution_count": 3,
   "metadata": {},
   "outputs": [],
   "source": [
    "# A) create a helper function that gets an arbitrary number of strings instead of a list\n",
    "\n",
    "def helper_function(*strings):\n",
    "    a_list = []\n",
    "    for str_ in strings:\n",
    "        a_list.append(str_)\n",
    "    return a_list\n",
    "\n",
    "\n",
    "def write_list_to_file(output_file, helper_function):\n",
    "    with open(output_file,'w') as file_object:\n",
    "        for element in helper_function:\n",
    "            file_object.write(element +'\\n')\n",
    "\n",
    "write_list_to_file('output_file.txt',helper_function('helper_function*','has','been','run'))"
   ]
  },
  {
   "cell_type": "code",
   "execution_count": 5,
   "metadata": {},
   "outputs": [],
   "source": [
    "# 2.A, 2.B og 3 these exercises are in modules/three_functions.py"
   ]
  },
  {
   "cell_type": "code",
   "execution_count": null,
   "metadata": {},
   "outputs": [],
   "source": [
    "# This exercise is in modules/utils.py"
   ]
  }
 ],
 "metadata": {
  "kernelspec": {
   "display_name": "Python 3",
   "language": "python",
   "name": "python3"
  },
  "language_info": {
   "codemirror_mode": {
    "name": "ipython",
    "version": 3
   },
   "file_extension": ".py",
   "mimetype": "text/x-python",
   "name": "python",
   "nbconvert_exporter": "python",
   "pygments_lexer": "ipython3",
   "version": "3.7.6"
  }
 },
 "nbformat": 4,
 "nbformat_minor": 4
}
